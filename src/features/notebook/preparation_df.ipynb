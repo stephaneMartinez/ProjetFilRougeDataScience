{
 "cells": [
  {
   "cell_type": "code",
   "execution_count": 26,
   "metadata": {},
   "outputs": [],
   "source": [
    "import pandas as pd \n"
   ]
  },
  {
   "cell_type": "code",
   "execution_count": 27,
   "metadata": {},
   "outputs": [
    {
     "name": "stderr",
     "output_type": "stream",
     "text": [
      "/var/folders/66/kgr5_fnx18s10y16833g5x600000gn/T/ipykernel_17816/2706252186.py:3: DtypeWarning: Columns (3,14,27,28,33,35,47) have mixed types. Specify dtype option on import or set low_memory=False.\n",
      "  data = pd.read_csv(\"../data/agg_usagers.csv\")\n"
     ]
    }
   ],
   "source": [
    "# DF de départ : agg_usagers.csv (généré dans notebooks 0 - ETAPE 5 - Merge_final.ipynb)\n",
    "# Le fichier devra être déposé dans data du projet streamlit\n",
    "data = pd.read_csv(\"../data/agg_usagers.csv\")\n",
    "\n",
    "\n"
   ]
  },
  {
   "cell_type": "code",
   "execution_count": 32,
   "metadata": {},
   "outputs": [],
   "source": [
    "# Filtre des années < 2018 --> df1\n",
    "df_2018 = data[data.carac_an>=2018]\n",
    "\n",
    "# Suppression des colonnes inutiles de df_2018\n",
    "drop_col = ['id_usager', 'carac_gps', 'carac_adr', 'lieu_pr', 'lieu_pr1', 'lieu_v1', 'lieu_v2', 'lieu_voie', 'lieu_env1',\n",
    "            'agg_nb_total_indemne', 'agg_nb_total_blesse_leger', 'agg_nb_total_blesse_grave', 'agg_nb_total_tue'\n",
    "           ]\n",
    "df_2018_filtered= df_2018.drop(drop_col, axis = 1)\n",
    "df_2018_filtered['lieu_vma'] = df_2018.lieu_vma.apply(lambda valeur : valeur*10 if (valeur > 0) and (valeur < 10) else valeur/10 if valeur > 130 else valeur)\n"
   ]
  },
  {
   "cell_type": "code",
   "execution_count": 33,
   "metadata": {},
   "outputs": [],
   "source": [
    "\n",
    "df_2018_filtered['count'] = 1\n",
    "# Si besoin de rajouter les champs date et heure\n",
    "df_2018_filtered['date'] = pd.to_datetime(df_2018_filtered['carac_hrmn'].astype(str).str.zfill(4), format='%H%M')\n",
    "df_2018_filtered['heure'] = df_2018_filtered['date'].dt.hour\n"
   ]
  },
  {
   "cell_type": "code",
   "execution_count": 34,
   "metadata": {},
   "outputs": [
    {
     "name": "stdout",
     "output_type": "stream",
     "text": [
      "<class 'pandas.core.frame.DataFrame'>\n",
      "Index: 624351 entries, 2012004 to 2636354\n",
      "Data columns (total 71 columns):\n",
      " #   Column                        Non-Null Count   Dtype         \n",
      "---  ------                        --------------   -----         \n",
      " 0   id_accident                   624351 non-null  int64         \n",
      " 1   id_vehicule                   624351 non-null  int64         \n",
      " 2   num_veh                       624351 non-null  object        \n",
      " 3   carac_an                      624351 non-null  int64         \n",
      " 4   carac_mois                    624351 non-null  int64         \n",
      " 5   carac_jour                    624351 non-null  int64         \n",
      " 6   carac_hrmn                    624351 non-null  int64         \n",
      " 7   carac_agg                     624351 non-null  int64         \n",
      " 8   carac_atm                     624351 non-null  int64         \n",
      " 9   carac_col                     624351 non-null  int64         \n",
      " 10  carac_com                     624351 non-null  float64       \n",
      " 11  carac_dept                    624351 non-null  int64         \n",
      " 12  carac_gps_lat                 620233 non-null  float64       \n",
      " 13  carac_gps_long                620233 non-null  float64       \n",
      " 14  carac_int                     624351 non-null  int64         \n",
      " 15  carac_lum                     624351 non-null  int64         \n",
      " 16  lieu_catr                     624351 non-null  int64         \n",
      " 17  lieu_circ                     624351 non-null  int64         \n",
      " 18  lieu_infra                    624351 non-null  int64         \n",
      " 19  lieu_larrout                  391700 non-null  float64       \n",
      " 20  lieu_lartpc                   624351 non-null  float64       \n",
      " 21  lieu_nbv                      624351 non-null  int64         \n",
      " 22  lieu_plan                     624351 non-null  int64         \n",
      " 23  lieu_prof                     624351 non-null  int64         \n",
      " 24  lieu_situ                     624351 non-null  int64         \n",
      " 25  lieu_surf                     624351 non-null  int64         \n",
      " 26  lieu_vma                      494182 non-null  float64       \n",
      " 27  lieu_vosp                     624351 non-null  int64         \n",
      " 28  vehi_catv                     624351 non-null  int64         \n",
      " 29  vehi_choc                     624351 non-null  int64         \n",
      " 30  vehi_manv                     624351 non-null  int64         \n",
      " 31  vehi_motor                    494182 non-null  float64       \n",
      " 32  vehi_obs                      624351 non-null  int64         \n",
      " 33  vehi_obsm                     624351 non-null  int64         \n",
      " 34  vehi_occutc                   624351 non-null  int64         \n",
      " 35  vehi_senc                     624176 non-null  float64       \n",
      " 36  user_an_nais                  618380 non-null  float64       \n",
      " 37  user_catu                     624351 non-null  int64         \n",
      " 38  user_actp                     624351 non-null  object        \n",
      " 39  user_etatp                    624351 non-null  int64         \n",
      " 40  user_locp                     624351 non-null  int64         \n",
      " 41  user_place                    624351 non-null  int64         \n",
      " 42  user_secu1                    624351 non-null  int64         \n",
      " 43  user_secu2                    624351 non-null  int64         \n",
      " 44  user_secu3                    624351 non-null  int64         \n",
      " 45  user_sexe                     624351 non-null  int64         \n",
      " 46  user_trajet                   624351 non-null  int64         \n",
      " 47  user_gravite                  624351 non-null  int64         \n",
      " 48  agg_catv_perso                624351 non-null  int64         \n",
      " 49  agg_is_conducteur_vehicule    624351 non-null  int64         \n",
      " 50  agg_is_conductrice_vehicule   624351 non-null  int64         \n",
      " 51  agg_nb_pieton_vehicule        624351 non-null  int64         \n",
      " 52  agg_nb_passager_vehicule      624351 non-null  int64         \n",
      " 53  agg_nb_indemne_vehicule       624351 non-null  int64         \n",
      " 54  agg_nb_blesse_leger_vehicule  624351 non-null  int64         \n",
      " 55  agg_nb_blesse_grave_vehicule  624351 non-null  int64         \n",
      " 56  agg_nb_tue_vehicule           624351 non-null  int64         \n",
      " 57  agg_nb_total_vehicule         624351 non-null  int64         \n",
      " 58  agg_nb_total_velo             624351 non-null  int64         \n",
      " 59  agg_nb_total_vsp              624351 non-null  int64         \n",
      " 60  agg_nb_total_moto             624351 non-null  int64         \n",
      " 61  agg_nb_total_vl               624351 non-null  int64         \n",
      " 62  agg_nb_total_pl               624351 non-null  int64         \n",
      " 63  agg_nb_total_va               624351 non-null  int64         \n",
      " 64  agg_nb_total_conducteur       624351 non-null  int64         \n",
      " 65  agg_nb_total_conductrice      624351 non-null  int64         \n",
      " 66  agg_nb_total_pieton           624351 non-null  int64         \n",
      " 67  agg_nb_total_passager         624351 non-null  int64         \n",
      " 68  count                         624351 non-null  int64         \n",
      " 69  date                          624351 non-null  datetime64[ns]\n",
      " 70  heure                         624351 non-null  int32         \n",
      "dtypes: datetime64[ns](1), float64(9), int32(1), int64(58), object(2)\n",
      "memory usage: 340.6+ MB\n"
     ]
    }
   ],
   "source": [
    "df_2018_filtered.info()"
   ]
  },
  {
   "cell_type": "code",
   "execution_count": 37,
   "metadata": {},
   "outputs": [],
   "source": [
    "df_2018_filtered.to_csv( \"../data/agg_usagers_2018_2022.csv\", index=False, encoding='utf-8')\n",
    "\n",
    "# Génération d'un second df (privilégié dans streamlit de 2020 à 2022)\n",
    "df_2020_filtered = df_2018_filtered[df_2018_filtered.carac_an>=2020]\n",
    "df_2020_filtered.to_csv( \"../data/agg_usagers_2020_2022.csv\", index=False, encoding='utf-8')\n"
   ]
  },
  {
   "cell_type": "code",
   "execution_count": 23,
   "metadata": {},
   "outputs": [
    {
     "name": "stdout",
     "output_type": "stream",
     "text": [
      "<class 'pandas.core.frame.DataFrame'>\n",
      "Index: 50 entries, 2012004 to 2012053\n",
      "Data columns (total 64 columns):\n",
      " #   Column                       Non-Null Count  Dtype  \n",
      "---  ------                       --------------  -----  \n",
      " 0   id_accident                  50 non-null     int64  \n",
      " 1   id_vehicule                  50 non-null     int64  \n",
      " 2   num_veh                      50 non-null     object \n",
      " 3   carac_an                     50 non-null     int64  \n",
      " 4   carac_mois                   50 non-null     int64  \n",
      " 5   carac_jour                   50 non-null     int64  \n",
      " 6   carac_hrmn                   50 non-null     int64  \n",
      " 7   carac_agg                    50 non-null     int64  \n",
      " 8   carac_atm                    50 non-null     int64  \n",
      " 9   carac_col                    50 non-null     int64  \n",
      " 10  carac_com                    50 non-null     float64\n",
      " 11  carac_dept                   50 non-null     int64  \n",
      " 12  carac_gps_lat                50 non-null     float64\n",
      " 13  carac_gps_long               50 non-null     float64\n",
      " 14  carac_int                    50 non-null     int64  \n",
      " 15  carac_lum                    50 non-null     int64  \n",
      " 16  lieu_catr                    50 non-null     int64  \n",
      " 17  lieu_circ                    50 non-null     int64  \n",
      " 18  lieu_infra                   50 non-null     int64  \n",
      " 19  lieu_larrout                 0 non-null      float64\n",
      " 20  lieu_lartpc                  50 non-null     float64\n",
      " 21  lieu_nbv                     50 non-null     int64  \n",
      " 22  lieu_plan                    50 non-null     int64  \n",
      " 23  lieu_prof                    50 non-null     int64  \n",
      " 24  lieu_situ                    50 non-null     int64  \n",
      " 25  lieu_surf                    50 non-null     int64  \n",
      " 26  lieu_vma                     0 non-null      float64\n",
      " 27  lieu_vosp                    50 non-null     int64  \n",
      " 28  vehi_catv                    50 non-null     int64  \n",
      " 29  vehi_choc                    50 non-null     int64  \n",
      " 30  vehi_manv                    50 non-null     int64  \n",
      " 31  vehi_motor                   0 non-null      float64\n",
      " 32  vehi_obs                     50 non-null     int64  \n",
      " 33  vehi_obsm                    50 non-null     int64  \n",
      " 34  vehi_occutc                  50 non-null     int64  \n",
      " 35  vehi_senc                    50 non-null     float64\n",
      " 36  user_an_nais                 50 non-null     float64\n",
      " 37  user_catu                    50 non-null     int64  \n",
      " 38  user_actp                    50 non-null     object \n",
      " 39  user_etatp                   50 non-null     int64  \n",
      " 40  user_locp                    50 non-null     int64  \n",
      " 41  user_place                   50 non-null     int64  \n",
      " 42  user_secu1                   50 non-null     int64  \n",
      " 43  user_secu2                   50 non-null     int64  \n",
      " 44  user_secu3                   50 non-null     int64  \n",
      " 45  user_sexe                    50 non-null     int64  \n",
      " 46  user_trajet                  50 non-null     int64  \n",
      " 47  user_gravite                 50 non-null     int64  \n",
      " 48  agg_catv_perso               50 non-null     int64  \n",
      " 49  agg_is_conducteur_vehicule   50 non-null     int64  \n",
      " 50  agg_is_conductrice_vehicule  50 non-null     int64  \n",
      " 51  agg_nb_pieton_vehicule       50 non-null     int64  \n",
      " 52  agg_nb_passager_vehicule     50 non-null     int64  \n",
      " 53  agg_nb_total_vehicule        50 non-null     int64  \n",
      " 54  agg_nb_total_velo            50 non-null     int64  \n",
      " 55  agg_nb_total_vsp             50 non-null     int64  \n",
      " 56  agg_nb_total_moto            50 non-null     int64  \n",
      " 57  agg_nb_total_vl              50 non-null     int64  \n",
      " 58  agg_nb_total_pl              50 non-null     int64  \n",
      " 59  agg_nb_total_va              50 non-null     int64  \n",
      " 60  agg_nb_total_conducteur      50 non-null     int64  \n",
      " 61  agg_nb_total_conductrice     50 non-null     int64  \n",
      " 62  agg_nb_total_pieton          50 non-null     int64  \n",
      " 63  agg_nb_total_passager        50 non-null     int64  \n",
      "dtypes: float64(9), int64(53), object(2)\n",
      "memory usage: 25.4+ KB\n"
     ]
    }
   ],
   "source": [
    "\n",
    "# Génération d'un df sample de 50 lignes (pour obtimiser les perfs dans stremalit)\n",
    "df_sample = df_2018_filtered.head(50)\n",
    "df_sample = df_sample.drop(columns=['count', 'date', 'heure', 'agg_nb_tue_vehicule', 'agg_nb_blesse_grave_vehicule', 'agg_nb_blesse_leger_vehicule', 'agg_nb_indemne_vehicule' ], axis=1)\n",
    "df_sample.info()\n",
    "df_sample.to_csv(\"../data/agg_usagers_sample.csv\", index=False, encoding='utf-8')\n"
   ]
  }
 ],
 "metadata": {
  "kernelspec": {
   "display_name": "Projet_accident",
   "language": "python",
   "name": "python3"
  },
  "language_info": {
   "codemirror_mode": {
    "name": "ipython",
    "version": 3
   },
   "file_extension": ".py",
   "mimetype": "text/x-python",
   "name": "python",
   "nbconvert_exporter": "python",
   "pygments_lexer": "ipython3",
   "version": "3.11.8"
  }
 },
 "nbformat": 4,
 "nbformat_minor": 2
}
